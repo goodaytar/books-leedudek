{
 "cells": [
  {
   "cell_type": "markdown",
   "metadata": {},
   "source": [
    "# Train the model\n",
    "### My approach\n",
    "  \n",
    "    - Load the data \n",
    "        - I Load the json file\n",
    "        - Clean the data\n",
    "        - remove duplicates, nan values, outliers and balance the class labels to remove bias\n",
    "        - tokenize it ready for training\n",
    "\n",
    "    - Train the model \n",
    "        - I opted for a verbose approach (see src/train.py) rather than using a trainer. It made for easier MLFlow tracking.\n",
    "        \n",
    "    - Evaluate\n",
    "        - After each batch I log precision, recall and loss in MLFlow\n",
    "\n",
    "\n",
    "The first model I trained got a maximum f1 of 0.989 on the evaluation set which led me to believe there is probably some data leakage somewhere.\n",
    "\n",
    "### If I had more time\n",
    "I'd rectify the data leakage using agglomerative clustering. I’d select a cluster or two to form the data for the test set. The remaining clusters would form the train set. That way I could be more confident there was no data leakage from train into test.\n",
    "\n"
   ]
  },
  {
   "cell_type": "code",
   "execution_count": 1,
   "metadata": {},
   "outputs": [
    {
     "name": "stderr",
     "output_type": "stream",
     "text": [
      "/Users/leedudek/Library/Mobile Documents/com~apple~CloudDocs/life/books/.venv/lib/python3.12/site-packages/tqdm/auto.py:21: TqdmWarning: IProgress not found. Please update jupyter and ipywidgets. See https://ipywidgets.readthedocs.io/en/stable/user_install.html\n",
      "  from .autonotebook import tqdm as notebook_tqdm\n"
     ]
    }
   ],
   "source": [
    "import sys\n",
    "sys.path.append('..')\n",
    "from src import train, data\n",
    "from transformers import AutoModelForSequenceClassification, AutoTokenizer"
   ]
  },
  {
   "cell_type": "code",
   "execution_count": 2,
   "metadata": {},
   "outputs": [],
   "source": [
    "models_to_try = [\"sentence-transformers/all-MiniLM-L6-v2\", \"bert-base-uncased\", \"intfloat/e5-small\", \"TheBritishLibrary/bl-books-genre\", \"avsolatorio/GIST-Embedding-v0\"]\n",
    "df = data.load_data(clean=True)\n",
    "df.rename(columns={'austen':'labels'}, inplace=True)"
   ]
  },
  {
   "cell_type": "code",
   "execution_count": 3,
   "metadata": {},
   "outputs": [
    {
     "name": "stderr",
     "output_type": "stream",
     "text": [
      "Some weights of BertForSequenceClassification were not initialized from the model checkpoint at sentence-transformers/all-MiniLM-L6-v2 and are newly initialized: ['classifier.bias', 'classifier.weight']\n",
      "You should probably TRAIN this model on a down-stream task to be able to use it for predictions and inference.\n",
      "/Users/leedudek/Library/Mobile Documents/com~apple~CloudDocs/life/books/.venv/lib/python3.12/site-packages/transformers/optimization.py:591: FutureWarning: This implementation of AdamW is deprecated and will be removed in a future version. Use the PyTorch implementation torch.optim.AdamW instead, or set `no_deprecation_warning=True` to disable this warning\n",
      "  warnings.warn(\n",
      " 17%|█▋        | 38/225 [06:35<32:32, 10.44s/it]"
     ]
    }
   ],
   "source": [
    "for model_name in models_to_try:\n",
    "    model = AutoModelForSequenceClassification.from_pretrained(model_name, num_labels=1)\n",
    "    model.to('cpu')\n",
    "    tokenizer = AutoTokenizer.from_pretrained(model_name)\n",
    "    train_loader, eval_loader, test_loader = data.split(df[['text','labels']], tokenizer=tokenizer)\n",
    "    train.train(model, model_name, train_loader, eval_loader, test_loader, 'cpu', num_epochs=1)\n"
   ]
  }
 ],
 "metadata": {
  "kernelspec": {
   "display_name": ".venv",
   "language": "python",
   "name": "python3"
  },
  "language_info": {
   "codemirror_mode": {
    "name": "ipython",
    "version": 3
   },
   "file_extension": ".py",
   "mimetype": "text/x-python",
   "name": "python",
   "nbconvert_exporter": "python",
   "pygments_lexer": "ipython3",
   "version": "3.12.4"
  }
 },
 "nbformat": 4,
 "nbformat_minor": 2
}
